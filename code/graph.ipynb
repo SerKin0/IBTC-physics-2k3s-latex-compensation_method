{
 "cells": [
  {
   "cell_type": "code",
   "execution_count": 2,
   "id": "a6a10abe",
   "metadata": {},
   "outputs": [],
   "source": [
    "import matplotlib.pyplot as plt\n",
    "import numpy as np"
   ]
  },
  {
   "cell_type": "code",
   "execution_count": 11,
   "id": "d8796c87",
   "metadata": {},
   "outputs": [],
   "source": [
    "R = 6\n",
    "E = 6\n",
    "E_x = 4\n",
    "r = 0.9\n",
    "A5_width_cm = 14.8-2  # Ширина А5 - 2 см = 14.8 см\n",
    "A5_height_cm = 19.8-5  # Высота А5 - 2 см = 19.8 см\n",
    "A5_width_inch = A5_width_cm / 2.54\n",
    "A5_height_inch = A5_height_cm / 2.54"
   ]
  },
  {
   "cell_type": "code",
   "execution_count": 12,
   "id": "b74ffaba",
   "metadata": {},
   "outputs": [],
   "source": [
    "R_1 = np.linspace(0, R, 100)\n",
    "I_3 = (R_1 * E - R * E_x) / (r * R + R_1 * (R - R_1))"
   ]
  },
  {
   "cell_type": "code",
   "execution_count": 13,
   "id": "ca573777",
   "metadata": {},
   "outputs": [
    {
     "name": "stderr",
     "output_type": "stream",
     "text": [
      "C:\\Users\\SerKin0\\AppData\\Local\\Temp\\ipykernel_20880\\3311901631.py:48: UserWarning: color is redundantly defined by the 'color' keyword argument and the fmt string \">k\" (-> color='k'). The keyword argument will take precedence.\n",
      "  ax.plot(1, 0, \">k\", transform=ax.get_yaxis_transform(), **arrow_kwargs)\n",
      "C:\\Users\\SerKin0\\AppData\\Local\\Temp\\ipykernel_20880\\3311901631.py:50: UserWarning: color is redundantly defined by the 'color' keyword argument and the fmt string \"^k\" (-> color='k'). The keyword argument will take precedence.\n",
      "  ax.plot(0, 1, \"^k\", transform=ax.get_xaxis_transform(), **arrow_kwargs)\n"
     ]
    },
    {
     "name": "stdout",
     "output_type": "stream",
     "text": [
      "Размер листа: 12.8 × 14.8 см\n",
      "В дюймах для matplotlib: 5.04 × 5.83 дюймов\n",
      "График сохранен как 'graph_A5_millimeter_grid.pdf'\n"
     ]
    },
    {
     "data": {
      "image/png": "[encoded data removed]",
      "text/plain": [
       "<Figure size 503.937x582.677 with 1 Axes>"
      ]
     },
     "metadata": {},
     "output_type": "display_data"
    }
   ],
   "source": [
    "fig, ax = plt.subplots(figsize=(A5_width_inch, A5_height_inch))\n",
    "\n",
    "# Устанавливаем равные масштабы по осям для квадратных ячеек\n",
    "ax.set_aspect('equal')\n",
    "\n",
    "# Устанавливаем пределы осей с запасом для стрелок и подписей\n",
    "x_margin = 1.5\n",
    "y_margin = 1.5\n",
    "ax.set_xlim(-x_margin, R + x_margin)\n",
    "ax.set_ylim(min(I_3) - y_margin, max(I_3) + y_margin)\n",
    "\n",
    "# Создаем милиметровку на всем поле графика\n",
    "# Основная сетка каждые 1 единица\n",
    "major_ticks_x = np.arange(-x_margin, R + x_margin + 0.1, 1)\n",
    "major_ticks_y = np.arange(min(I_3) - y_margin, max(I_3) + y_margin + 0.1, 1)\n",
    "\n",
    "minor_ticks_x = np.arange(-x_margin, R + x_margin + 0.1, 0.1)\n",
    "minor_ticks_y = np.arange(min(I_3) - y_margin, max(I_3) + y_margin + 0.1, 0.1)\n",
    "\n",
    "ax.set_xticks(major_ticks_x)\n",
    "ax.set_xticks(minor_ticks_x, minor=True)\n",
    "ax.set_yticks(major_ticks_y)\n",
    "ax.set_yticks(minor_ticks_y, minor=True)\n",
    "\n",
    "# Включаем милиметровку на всем поле\n",
    "ax.grid(True, which='minor', color='lightgray', linestyle='-', linewidth=0.2, alpha=0.4)\n",
    "ax.grid(True, which='major', color='gray', linestyle='-', linewidth=0.3, alpha=0.6)\n",
    "ax.set_axisbelow(True)\n",
    "\n",
    "# Убираем стандартные рамки и оси\n",
    "ax.spines['top'].set_visible(False)\n",
    "ax.spines['right'].set_visible(False)\n",
    "ax.spines['bottom'].set_position('zero')\n",
    "ax.spines['left'].set_position('zero')\n",
    "\n",
    "# Убираем нумерацию на осях\n",
    "ax.set_xticklabels([])\n",
    "ax.set_yticklabels([])\n",
    "\n",
    "# Увеличиваем ширину линий осей\n",
    "ax.spines['bottom'].set_linewidth(1.2)\n",
    "ax.spines['left'].set_linewidth(1.2)\n",
    "\n",
    "# Возвращаем обычные стрелки (треугольные маркеры)\n",
    "arrow_kwargs = dict(clip_on=False, markersize=8, color='black')\n",
    "\n",
    "# Стрелка для оси X\n",
    "ax.plot(1, 0, \">k\", transform=ax.get_yaxis_transform(), **arrow_kwargs)\n",
    "# Стрелка для оси Y\n",
    "ax.plot(0, 1, \"^k\", transform=ax.get_xaxis_transform(), **arrow_kwargs)\n",
    "\n",
    "# Подписи осей с LaTeX\n",
    "ax.text(R + 0.9, -0.2, r'$R_1$', fontsize=14, ha='center', va='center')\n",
    "ax.text(-0.2, max(I_3) + 0.9, r'$I_3$', fontsize=14, ha='center', va='center', rotation=0)\n",
    "\n",
    "# График с увеличенной шириной линии\n",
    "plt.plot(R_1, I_3, color='k', linewidth=2.0)\n",
    "\n",
    "# Настройки для точной печати с квадратными ячейками\n",
    "plt.tight_layout(pad=1.0)\n",
    "\n",
    "# Сохраняем в PDF с высоким качеством\n",
    "plt.savefig('graph_A5_millimeter_grid.pdf', \n",
    "            dpi=300, \n",
    "            bbox_inches='tight', \n",
    "            facecolor='white', \n",
    "            edgecolor='none', \n",
    "            pad_inches=0.5,\n",
    "            format='pdf')\n",
    "\n",
    "# Показываем информацию о размерах\n",
    "print(f\"Размер листа: {A5_width_cm} × {A5_height_cm} см\")\n",
    "print(f\"В дюймах для matplotlib: {A5_width_inch:.2f} × {A5_height_inch:.2f} дюймов\")\n",
    "print(\"График сохранен как 'graph_A5_millimeter_grid.pdf'\")\n",
    "\n",
    "plt.show()"
   ]
  },
  {
   "cell_type": "code",
   "execution_count": null,
   "id": "4d75f704",
   "metadata": {},
   "outputs": [],
   "source": []
  }
 ],
 "metadata": {
  "kernelspec": {
   "display_name": "Python 3",
   "language": "python",
   "name": "python3"
  },
  "language_info": {
   "codemirror_mode": {
    "name": "ipython",
    "version": 3
   },
   "file_extension": ".py",
   "mimetype": "text/x-python",
   "name": "python",
   "nbconvert_exporter": "python",
   "pygments_lexer": "ipython3",
   "version": "3.13.9"
  }
 },
 "nbformat": 4,
 "nbformat_minor": 5
}
